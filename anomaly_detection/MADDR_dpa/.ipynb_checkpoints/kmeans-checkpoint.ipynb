{
 "cells": [
  {
   "cell_type": "code",
   "execution_count": 1,
   "metadata": {},
   "outputs": [],
   "source": [
    "import os\n",
    "from torchvision import datasets\n",
    "from torch.utils.data import Dataset\n",
    "import numpy as np\n",
    "import tqdm\n",
    "from enum import Enum\n",
    "import PIL.Image\n",
    "from torch.utils.data import DataLoader\n",
    "from torchvision import transforms\n",
    "import torch\n",
    "from sklearn.cluster import KMeans\n",
    "import pandas as pd\n",
    "from sklearn.metrics import roc_auc_score\n",
    "import numpy as np\n",
    "import matplotlib.pyplot as plt"
   ]
  },
  {
   "cell_type": "markdown",
   "metadata": {},
   "source": [
    "### 博客\n",
    "https://blog.csdn.net/lovenankai/article/details/99966078?utm_term=kmeans%E7%AE%97%E6%B3%95%E4%B8%AD%E7%9A%84sse&utm_medium=distribute.pc_aggpage_search_result.none-task-blog-2~all~sobaiduweb~default-0-99966078&spm=3001.4430"
   ]
  },
  {
   "cell_type": "code",
   "execution_count": 2,
   "metadata": {},
   "outputs": [],
   "source": [
    "class NIHDataset(Dataset):\n",
    "    def __init__(self, image_root, split_root, split, transform=None, cache_data=False):\n",
    "        super().__init__()\n",
    "\n",
    "        self._image_root = image_root\n",
    "        self._transform = transform\n",
    "        self.split = split\n",
    "\n",
    "        split_info_path = os.path.join(split_root, self.split)\n",
    "        with open(split_info_path) as f_in:\n",
    "            self._image_filenames = [filename.strip() for filename in f_in.readlines()]\n",
    "\n",
    "        self._cached_images = {}\n",
    "        if cache_data:\n",
    "            self._cache_data = False\n",
    "            print('Loading dataset ... ')\n",
    "            for index in tqdm.tqdm(range(len(self))):\n",
    "                self._cached_images[index] = self[index]\n",
    "        self._cache_data = cache_data\n",
    "\n",
    "    def __getitem__(self, index):\n",
    "        if self._cache_data:\n",
    "            return self._cached_images[index]\n",
    "        else:\n",
    "            image_path = os.path.join(self._image_root,self._image_filenames[index].split(' ')[0])\n",
    "            label = float(self._image_filenames[index].split(' ')[1])\n",
    "            image = PIL.Image.open(image_path)\n",
    "            if self._transform is not None:\n",
    "                image = self._transform(image)\n",
    "            return [image,label]\n",
    "\n",
    "    def __len__(self):\n",
    "        return len(self._image_filenames)"
   ]
  },
  {
   "cell_type": "code",
   "execution_count": 3,
   "metadata": {},
   "outputs": [],
   "source": [
    "class NIHTransform(object):\n",
    "    def __init__(self, crop_size=768, resize=64, equalize_hist=False, to_tensor=True, normalize=True):\n",
    "        tr = [\n",
    "            transforms.Grayscale(),\n",
    "            transforms.CenterCrop((crop_size, crop_size)),\n",
    "        ]\n",
    "\n",
    "        if equalize_hist:\n",
    "            tr += [EqualizeHistogram()]\n",
    "\n",
    "        tr += [transforms.Resize((resize, resize))]\n",
    "        \n",
    "        # if np.random.rand() > 0.2:\n",
    "        #     tr += [Gauss_noise()]\n",
    "\n",
    "        if to_tensor:\n",
    "            tr += [transforms.ToTensor()]\n",
    "\n",
    "        if normalize:\n",
    "            tr += [transforms.Normalize((0.5,), (0.5,))]\n",
    "\n",
    "        self.transform = transforms.Compose(tr)\n",
    "\n",
    "    def __call__(self, img):\n",
    "        return self.transform(img)"
   ]
  },
  {
   "cell_type": "code",
   "execution_count": 4,
   "metadata": {},
   "outputs": [],
   "source": [
    "image_root = \"/data1/LJL/MICCAI/data/AAAI_data/\"\n",
    "split = \"train\"\n",
    "split_root = \"../../folds/train_test_split/nih/subset/normal/\""
   ]
  },
  {
   "cell_type": "code",
   "execution_count": 5,
   "metadata": {},
   "outputs": [],
   "source": [
    "dataset = NIHDataset(image_root,split_root,split,transform=NIHTransform())"
   ]
  },
  {
   "cell_type": "code",
   "execution_count": 6,
   "metadata": {},
   "outputs": [],
   "source": [
    "data_loader = DataLoader(dataset=dataset, batch_size=32, shuffle=False)"
   ]
  },
  {
   "cell_type": "code",
   "execution_count": 7,
   "metadata": {},
   "outputs": [],
   "source": [
    "model_path = \"../../data/checkpoint/dpa/xray_ct_lung/final/wo_pg_with_L1//weight_0.100/class_subset/run_0/anomaly_detection.tar\""
   ]
  },
  {
   "cell_type": "code",
   "execution_count": 8,
   "metadata": {},
   "outputs": [],
   "source": [
    "from train import Trainer\n",
    "enc, gen, image_rec_loss, (stage, resolution, progress, niter, _) = \\\n",
    "    Trainer.load_anomaly_detection_model(torch.load(model_path))"
   ]
  },
  {
   "cell_type": "code",
   "execution_count": 9,
   "metadata": {},
   "outputs": [],
   "source": [
    "enc, gen, image_rec_loss = enc.cuda().eval(), gen.cuda().eval(), image_rec_loss.cuda().eval()"
   ]
  },
  {
   "cell_type": "code",
   "execution_count": 10,
   "metadata": {},
   "outputs": [],
   "source": [
    "\n",
    "style_feature_list = []\n",
    "labels_list = []\n",
    "for images_labels in data_loader:\n",
    "    with torch.no_grad():\n",
    "        images = images_labels[0].cuda()\n",
    "        labels = images_labels[1].cuda()\n",
    "        feature_maps = enc(images)\n",
    "        style_feature = feature_maps[:,10:,:,:]\n",
    "        style_feature_list.append(style_feature)\n",
    "        labels_list.append(labels)\n",
    "\n"
   ]
  },
  {
   "cell_type": "code",
   "execution_count": 11,
   "metadata": {},
   "outputs": [],
   "source": [
    "style_feature_cat = torch.cat(style_feature_list, dim = 0).cpu().squeeze(3).squeeze(2)"
   ]
  },
  {
   "cell_type": "code",
   "execution_count": 12,
   "metadata": {},
   "outputs": [
    {
     "data": {
      "text/plain": [
       "torch.Size([10971, 118])"
      ]
     },
     "execution_count": 12,
     "metadata": {},
     "output_type": "execute_result"
    }
   ],
   "source": [
    "style_feature_cat.shape"
   ]
  },
  {
   "cell_type": "markdown",
   "metadata": {},
   "source": [
    "### 确定k值"
   ]
  },
  {
   "cell_type": "code",
   "execution_count": 48,
   "metadata": {},
   "outputs": [
    {
     "data": {
      "image/png": "[encoded data removed]",
      "text/plain": [
       "<Figure size 432x288 with 1 Axes>"
      ]
     },
     "metadata": {
      "needs_background": "light"
     },
     "output_type": "display_data"
    }
   ],
   "source": [
    "# 确定k值\n",
    "k = np.arange(2,20)\n",
    "jarr = []\n",
    "for i in k:\n",
    "    model = KMeans(n_clusters=i,random_state=9637)\n",
    "    model.fit(style_feature_cat)\n",
    "    jarr.append(model.inertia_)\n",
    "    # 给这几个点打标\n",
    "    plt.annotate(str(i),(i,model.inertia_))\n",
    "plt.plot(k,jarr,marker=\"o\")\n",
    "plt.xlabel(\"numbers\")\n",
    "plt.ylabel(\"sse\")\n",
    "plt.show()\n",
    "# 经确定，k=4\n",
    "# k = 4\n"
   ]
  },
  {
   "cell_type": "code",
   "execution_count": 44,
   "metadata": {},
   "outputs": [],
   "source": [
    "from sklearn.metrics import silhouette_score\n",
    "S = []  # 存放轮廓系数\n",
    "for i in range(2,20):\n",
    "    kmeans = KMeans(n_clusters=i,random_state=9637)  # 构造聚类器\n",
    "    kmeans.fit(style_feature_cat)\n",
    "    S.append(silhouette_score(style_feature_cat,kmeans.labels_,metric='euclidean'))"
   ]
  },
  {
   "cell_type": "code",
   "execution_count": 47,
   "metadata": {},
   "outputs": [
    {
     "data": {
      "image/png": "[encoded data removed]",
      "text/plain": [
       "<Figure size 432x288 with 1 Axes>"
      ]
     },
     "metadata": {
      "needs_background": "light"
     },
     "output_type": "display_data"
    }
   ],
   "source": [
    "k = np.arange(2,20)\n",
    "plt.plot(k,S,marker=\"o\")\n",
    "plt.xlabel(\"k_numbers\")\n",
    "plt.ylabel(\"S\")\n",
    "plt.show()\n",
    "# 经确定，k=4"
   ]
  },
  {
   "cell_type": "code",
   "execution_count": 62,
   "metadata": {},
   "outputs": [],
   "source": [
    "kmeans = KMeans(n_clusters=10, random_state=9637)"
   ]
  },
  {
   "cell_type": "code",
   "execution_count": 63,
   "metadata": {},
   "outputs": [
    {
     "data": {
      "text/plain": [
       "KMeans(algorithm='auto', copy_x=True, init='k-means++', max_iter=300,\n",
       "       n_clusters=10, n_init=10, n_jobs=None, precompute_distances='auto',\n",
       "       random_state=9637, tol=0.0001, verbose=0)"
      ]
     },
     "execution_count": 63,
     "metadata": {},
     "output_type": "execute_result"
    }
   ],
   "source": [
    "kmeans.fit(style_feature_cat)"
   ]
  },
  {
   "cell_type": "code",
   "execution_count": 64,
   "metadata": {},
   "outputs": [
    {
     "data": {
      "text/plain": [
       "(10, 118)"
      ]
     },
     "execution_count": 64,
     "metadata": {},
     "output_type": "execute_result"
    }
   ],
   "source": [
    "# 聚类中心坐标\n",
    "kmeans.cluster_centers_.shape"
   ]
  },
  {
   "cell_type": "code",
   "execution_count": 65,
   "metadata": {},
   "outputs": [
    {
     "data": {
      "text/html": [
       "<div>\n",
       "<style scoped>\n",
       "    .dataframe tbody tr th:only-of-type {\n",
       "        vertical-align: middle;\n",
       "    }\n",
       "\n",
       "    .dataframe tbody tr th {\n",
       "        vertical-align: top;\n",
       "    }\n",
       "\n",
       "    .dataframe thead th {\n",
       "        text-align: right;\n",
       "    }\n",
       "</style>\n",
       "<table border=\"1\" class=\"dataframe\">\n",
       "  <thead>\n",
       "    <tr style=\"text-align: right;\">\n",
       "      <th></th>\n",
       "      <th>0</th>\n",
       "      <th>1</th>\n",
       "      <th>2</th>\n",
       "      <th>3</th>\n",
       "      <th>4</th>\n",
       "      <th>5</th>\n",
       "      <th>6</th>\n",
       "      <th>7</th>\n",
       "      <th>8</th>\n",
       "      <th>9</th>\n",
       "      <th>...</th>\n",
       "      <th>109</th>\n",
       "      <th>110</th>\n",
       "      <th>111</th>\n",
       "      <th>112</th>\n",
       "      <th>113</th>\n",
       "      <th>114</th>\n",
       "      <th>115</th>\n",
       "      <th>116</th>\n",
       "      <th>117</th>\n",
       "      <th>0</th>\n",
       "    </tr>\n",
       "  </thead>\n",
       "  <tbody>\n",
       "    <tr>\n",
       "      <th>0</th>\n",
       "      <td>-0.113795</td>\n",
       "      <td>-0.023627</td>\n",
       "      <td>0.109044</td>\n",
       "      <td>-0.055816</td>\n",
       "      <td>-0.006580</td>\n",
       "      <td>0.006508</td>\n",
       "      <td>0.021649</td>\n",
       "      <td>-0.197446</td>\n",
       "      <td>-0.054728</td>\n",
       "      <td>-0.254586</td>\n",
       "      <td>...</td>\n",
       "      <td>-0.048555</td>\n",
       "      <td>-0.085451</td>\n",
       "      <td>0.041598</td>\n",
       "      <td>-0.012315</td>\n",
       "      <td>-0.044248</td>\n",
       "      <td>-0.077443</td>\n",
       "      <td>-0.134903</td>\n",
       "      <td>-0.125641</td>\n",
       "      <td>0.046582</td>\n",
       "      <td>1601</td>\n",
       "    </tr>\n",
       "    <tr>\n",
       "      <th>1</th>\n",
       "      <td>-0.090296</td>\n",
       "      <td>-0.005028</td>\n",
       "      <td>0.064926</td>\n",
       "      <td>-0.043232</td>\n",
       "      <td>-0.085134</td>\n",
       "      <td>-0.029689</td>\n",
       "      <td>-0.060314</td>\n",
       "      <td>-0.140684</td>\n",
       "      <td>-0.087085</td>\n",
       "      <td>-0.231127</td>\n",
       "      <td>...</td>\n",
       "      <td>-0.062789</td>\n",
       "      <td>-0.083753</td>\n",
       "      <td>-0.042440</td>\n",
       "      <td>0.003187</td>\n",
       "      <td>-0.042598</td>\n",
       "      <td>-0.097298</td>\n",
       "      <td>-0.079670</td>\n",
       "      <td>-0.112333</td>\n",
       "      <td>-0.011440</td>\n",
       "      <td>531</td>\n",
       "    </tr>\n",
       "    <tr>\n",
       "      <th>2</th>\n",
       "      <td>-0.129700</td>\n",
       "      <td>-0.095424</td>\n",
       "      <td>0.057811</td>\n",
       "      <td>-0.058888</td>\n",
       "      <td>-0.024918</td>\n",
       "      <td>-0.005336</td>\n",
       "      <td>0.018470</td>\n",
       "      <td>-0.232596</td>\n",
       "      <td>0.054130</td>\n",
       "      <td>-0.244559</td>\n",
       "      <td>...</td>\n",
       "      <td>-0.079489</td>\n",
       "      <td>-0.131216</td>\n",
       "      <td>-0.055083</td>\n",
       "      <td>-0.045640</td>\n",
       "      <td>-0.106161</td>\n",
       "      <td>-0.067031</td>\n",
       "      <td>-0.111135</td>\n",
       "      <td>-0.100476</td>\n",
       "      <td>-0.071273</td>\n",
       "      <td>1044</td>\n",
       "    </tr>\n",
       "    <tr>\n",
       "      <th>3</th>\n",
       "      <td>-0.135530</td>\n",
       "      <td>-0.122872</td>\n",
       "      <td>0.139587</td>\n",
       "      <td>-0.123096</td>\n",
       "      <td>-0.090735</td>\n",
       "      <td>0.001165</td>\n",
       "      <td>-0.011638</td>\n",
       "      <td>-0.198303</td>\n",
       "      <td>-0.006761</td>\n",
       "      <td>-0.303935</td>\n",
       "      <td>...</td>\n",
       "      <td>-0.069480</td>\n",
       "      <td>-0.155478</td>\n",
       "      <td>-0.069792</td>\n",
       "      <td>-0.049312</td>\n",
       "      <td>-0.010854</td>\n",
       "      <td>0.001186</td>\n",
       "      <td>-0.155718</td>\n",
       "      <td>-0.114739</td>\n",
       "      <td>0.104574</td>\n",
       "      <td>618</td>\n",
       "    </tr>\n",
       "    <tr>\n",
       "      <th>4</th>\n",
       "      <td>-0.080304</td>\n",
       "      <td>-0.004928</td>\n",
       "      <td>0.151318</td>\n",
       "      <td>-0.068436</td>\n",
       "      <td>-0.065307</td>\n",
       "      <td>-0.046265</td>\n",
       "      <td>-0.049017</td>\n",
       "      <td>-0.153285</td>\n",
       "      <td>-0.098944</td>\n",
       "      <td>-0.246345</td>\n",
       "      <td>...</td>\n",
       "      <td>-0.031197</td>\n",
       "      <td>-0.078931</td>\n",
       "      <td>-0.018893</td>\n",
       "      <td>-0.083041</td>\n",
       "      <td>-0.011565</td>\n",
       "      <td>-0.057522</td>\n",
       "      <td>-0.145123</td>\n",
       "      <td>-0.126278</td>\n",
       "      <td>0.094342</td>\n",
       "      <td>1259</td>\n",
       "    </tr>\n",
       "  </tbody>\n",
       "</table>\n",
       "<p>5 rows × 119 columns</p>\n",
       "</div>"
      ],
      "text/plain": [
       "        0         1         2         3         4         5         6    \\\n",
       "0 -0.113795 -0.023627  0.109044 -0.055816 -0.006580  0.006508  0.021649   \n",
       "1 -0.090296 -0.005028  0.064926 -0.043232 -0.085134 -0.029689 -0.060314   \n",
       "2 -0.129700 -0.095424  0.057811 -0.058888 -0.024918 -0.005336  0.018470   \n",
       "3 -0.135530 -0.122872  0.139587 -0.123096 -0.090735  0.001165 -0.011638   \n",
       "4 -0.080304 -0.004928  0.151318 -0.068436 -0.065307 -0.046265 -0.049017   \n",
       "\n",
       "        7         8         9    ...       109       110       111       112  \\\n",
       "0 -0.197446 -0.054728 -0.254586  ... -0.048555 -0.085451  0.041598 -0.012315   \n",
       "1 -0.140684 -0.087085 -0.231127  ... -0.062789 -0.083753 -0.042440  0.003187   \n",
       "2 -0.232596  0.054130 -0.244559  ... -0.079489 -0.131216 -0.055083 -0.045640   \n",
       "3 -0.198303 -0.006761 -0.303935  ... -0.069480 -0.155478 -0.069792 -0.049312   \n",
       "4 -0.153285 -0.098944 -0.246345  ... -0.031197 -0.078931 -0.018893 -0.083041   \n",
       "\n",
       "        113       114       115       116       117   0    \n",
       "0 -0.044248 -0.077443 -0.134903 -0.125641  0.046582  1601  \n",
       "1 -0.042598 -0.097298 -0.079670 -0.112333 -0.011440   531  \n",
       "2 -0.106161 -0.067031 -0.111135 -0.100476 -0.071273  1044  \n",
       "3 -0.010854  0.001186 -0.155718 -0.114739  0.104574   618  \n",
       "4 -0.011565 -0.057522 -0.145123 -0.126278  0.094342  1259  \n",
       "\n",
       "[5 rows x 119 columns]"
      ]
     },
     "execution_count": 65,
     "metadata": {},
     "output_type": "execute_result"
    }
   ],
   "source": [
    "# 最后一列是类别的数目\n",
    "# 前118列就是聚类中心坐标维度\n",
    "r1 = pd.Series(kmeans.labels_).value_counts() #统计各个类别的数目\n",
    "r2 = pd.DataFrame(kmeans.cluster_centers_) #找出聚类中心\n",
    "r = pd.concat([r2, r1], axis = 1) #横向连接（0是纵向），得到聚类中心对应的类别下的数目\n",
    "# r.columns = list(data.columns) + [u'类别数目'] #重命名表头\n",
    "r.head()\n"
   ]
  },
  {
   "cell_type": "markdown",
   "metadata": {},
   "source": [
    "### 可视化一下聚类的特征"
   ]
  },
  {
   "cell_type": "code",
   "execution_count": 53,
   "metadata": {
    "scrolled": true
   },
   "outputs": [
    {
     "ename": "KeyboardInterrupt",
     "evalue": "",
     "output_type": "error",
     "traceback": [
      "\u001b[0;31m---------------------------------------------------------------------------\u001b[0m",
      "\u001b[0;31mKeyboardInterrupt\u001b[0m                         Traceback (most recent call last)",
      "\u001b[0;32m<ipython-input-53-697ec351b7bb>\u001b[0m in \u001b[0;36m<module>\u001b[0;34m\u001b[0m\n\u001b[1;32m      3\u001b[0m \u001b[0mdata_zs\u001b[0m \u001b[0;34m=\u001b[0m \u001b[0mstyle_feature_cat\u001b[0m \u001b[0;31m# 这是聚类前的特征\u001b[0m\u001b[0;34m\u001b[0m\u001b[0;34m\u001b[0m\u001b[0m\n\u001b[1;32m      4\u001b[0m \u001b[0mtsne\u001b[0m\u001b[0;34m=\u001b[0m\u001b[0mTSNE\u001b[0m\u001b[0;34m(\u001b[0m\u001b[0;34m)\u001b[0m\u001b[0;34m\u001b[0m\u001b[0;34m\u001b[0m\u001b[0m\n\u001b[0;32m----> 5\u001b[0;31m \u001b[0mtsne\u001b[0m\u001b[0;34m.\u001b[0m\u001b[0mfit_transform\u001b[0m\u001b[0;34m(\u001b[0m\u001b[0mdata_zs\u001b[0m\u001b[0;34m)\u001b[0m  \u001b[0;31m#进行数据降维,降成两维\u001b[0m\u001b[0;34m\u001b[0m\u001b[0;34m\u001b[0m\u001b[0m\n\u001b[0m\u001b[1;32m      6\u001b[0m \u001b[0;31m#a=tsne.fit_transform(data_zs) #a是一个array,a相当于下面的tsne_embedding_\u001b[0m\u001b[0;34m\u001b[0m\u001b[0;34m\u001b[0m\u001b[0;34m\u001b[0m\u001b[0m\n\u001b[1;32m      7\u001b[0m \u001b[0;31m# tsne=pd.DataFrame(tsne.embedding_,cluster_ids_x) #转换数据格式\u001b[0m\u001b[0;34m\u001b[0m\u001b[0;34m\u001b[0m\u001b[0;34m\u001b[0m\u001b[0m\n",
      "\u001b[0;32m~/anaconda3/envs/fortorch/lib/python3.6/site-packages/sklearn/manifold/t_sne.py\u001b[0m in \u001b[0;36mfit_transform\u001b[0;34m(self, X, y)\u001b[0m\n\u001b[1;32m    893\u001b[0m             \u001b[0mEmbedding\u001b[0m \u001b[0mof\u001b[0m \u001b[0mthe\u001b[0m \u001b[0mtraining\u001b[0m \u001b[0mdata\u001b[0m \u001b[0;32min\u001b[0m \u001b[0mlow\u001b[0m\u001b[0;34m-\u001b[0m\u001b[0mdimensional\u001b[0m \u001b[0mspace\u001b[0m\u001b[0;34m.\u001b[0m\u001b[0;34m\u001b[0m\u001b[0;34m\u001b[0m\u001b[0m\n\u001b[1;32m    894\u001b[0m         \"\"\"\n\u001b[0;32m--> 895\u001b[0;31m         \u001b[0membedding\u001b[0m \u001b[0;34m=\u001b[0m \u001b[0mself\u001b[0m\u001b[0;34m.\u001b[0m\u001b[0m_fit\u001b[0m\u001b[0;34m(\u001b[0m\u001b[0mX\u001b[0m\u001b[0;34m)\u001b[0m\u001b[0;34m\u001b[0m\u001b[0;34m\u001b[0m\u001b[0m\n\u001b[0m\u001b[1;32m    896\u001b[0m         \u001b[0mself\u001b[0m\u001b[0;34m.\u001b[0m\u001b[0membedding_\u001b[0m \u001b[0;34m=\u001b[0m \u001b[0membedding\u001b[0m\u001b[0;34m\u001b[0m\u001b[0;34m\u001b[0m\u001b[0m\n\u001b[1;32m    897\u001b[0m         \u001b[0;32mreturn\u001b[0m \u001b[0mself\u001b[0m\u001b[0;34m.\u001b[0m\u001b[0membedding_\u001b[0m\u001b[0;34m\u001b[0m\u001b[0;34m\u001b[0m\u001b[0m\n",
      "\u001b[0;32m~/anaconda3/envs/fortorch/lib/python3.6/site-packages/sklearn/manifold/t_sne.py\u001b[0m in \u001b[0;36m_fit\u001b[0;34m(self, X, skip_num_points)\u001b[0m\n\u001b[1;32m    766\u001b[0m             \u001b[0mt0\u001b[0m \u001b[0;34m=\u001b[0m \u001b[0mtime\u001b[0m\u001b[0;34m(\u001b[0m\u001b[0;34m)\u001b[0m\u001b[0;34m\u001b[0m\u001b[0;34m\u001b[0m\u001b[0m\n\u001b[1;32m    767\u001b[0m             distances_nn, neighbors_nn = knn.kneighbors(\n\u001b[0;32m--> 768\u001b[0;31m                 None, n_neighbors=k)\n\u001b[0m\u001b[1;32m    769\u001b[0m             \u001b[0mduration\u001b[0m \u001b[0;34m=\u001b[0m \u001b[0mtime\u001b[0m\u001b[0;34m(\u001b[0m\u001b[0;34m)\u001b[0m \u001b[0;34m-\u001b[0m \u001b[0mt0\u001b[0m\u001b[0;34m\u001b[0m\u001b[0;34m\u001b[0m\u001b[0m\n\u001b[1;32m    770\u001b[0m             \u001b[0;32mif\u001b[0m \u001b[0mself\u001b[0m\u001b[0;34m.\u001b[0m\u001b[0mverbose\u001b[0m\u001b[0;34m:\u001b[0m\u001b[0;34m\u001b[0m\u001b[0;34m\u001b[0m\u001b[0m\n",
      "\u001b[0;32m~/anaconda3/envs/fortorch/lib/python3.6/site-packages/sklearn/neighbors/base.py\u001b[0m in \u001b[0;36mkneighbors\u001b[0;34m(self, X, n_neighbors, return_distance)\u001b[0m\n\u001b[1;32m    452\u001b[0m                 delayed_query(\n\u001b[1;32m    453\u001b[0m                     self._tree, X[s], n_neighbors, return_distance)\n\u001b[0;32m--> 454\u001b[0;31m                 \u001b[0;32mfor\u001b[0m \u001b[0ms\u001b[0m \u001b[0;32min\u001b[0m \u001b[0mgen_even_slices\u001b[0m\u001b[0;34m(\u001b[0m\u001b[0mX\u001b[0m\u001b[0;34m.\u001b[0m\u001b[0mshape\u001b[0m\u001b[0;34m[\u001b[0m\u001b[0;36m0\u001b[0m\u001b[0;34m]\u001b[0m\u001b[0;34m,\u001b[0m \u001b[0mn_jobs\u001b[0m\u001b[0;34m)\u001b[0m\u001b[0;34m\u001b[0m\u001b[0;34m\u001b[0m\u001b[0m\n\u001b[0m\u001b[1;32m    455\u001b[0m             )\n\u001b[1;32m    456\u001b[0m         \u001b[0;32melse\u001b[0m\u001b[0;34m:\u001b[0m\u001b[0;34m\u001b[0m\u001b[0;34m\u001b[0m\u001b[0m\n",
      "\u001b[0;32m~/anaconda3/envs/fortorch/lib/python3.6/site-packages/joblib/parallel.py\u001b[0m in \u001b[0;36m__call__\u001b[0;34m(self, iterable)\u001b[0m\n\u001b[1;32m   1027\u001b[0m             \u001b[0;31m# remaining jobs.\u001b[0m\u001b[0;34m\u001b[0m\u001b[0;34m\u001b[0m\u001b[0;34m\u001b[0m\u001b[0m\n\u001b[1;32m   1028\u001b[0m             \u001b[0mself\u001b[0m\u001b[0;34m.\u001b[0m\u001b[0m_iterating\u001b[0m \u001b[0;34m=\u001b[0m \u001b[0;32mFalse\u001b[0m\u001b[0;34m\u001b[0m\u001b[0;34m\u001b[0m\u001b[0m\n\u001b[0;32m-> 1029\u001b[0;31m             \u001b[0;32mif\u001b[0m \u001b[0mself\u001b[0m\u001b[0;34m.\u001b[0m\u001b[0mdispatch_one_batch\u001b[0m\u001b[0;34m(\u001b[0m\u001b[0miterator\u001b[0m\u001b[0;34m)\u001b[0m\u001b[0;34m:\u001b[0m\u001b[0;34m\u001b[0m\u001b[0;34m\u001b[0m\u001b[0m\n\u001b[0m\u001b[1;32m   1030\u001b[0m                 \u001b[0mself\u001b[0m\u001b[0;34m.\u001b[0m\u001b[0m_iterating\u001b[0m \u001b[0;34m=\u001b[0m \u001b[0mself\u001b[0m\u001b[0;34m.\u001b[0m\u001b[0m_original_iterator\u001b[0m \u001b[0;32mis\u001b[0m \u001b[0;32mnot\u001b[0m \u001b[0;32mNone\u001b[0m\u001b[0;34m\u001b[0m\u001b[0;34m\u001b[0m\u001b[0m\n\u001b[1;32m   1031\u001b[0m \u001b[0;34m\u001b[0m\u001b[0m\n",
      "\u001b[0;32m~/anaconda3/envs/fortorch/lib/python3.6/site-packages/joblib/parallel.py\u001b[0m in \u001b[0;36mdispatch_one_batch\u001b[0;34m(self, iterator)\u001b[0m\n\u001b[1;32m    845\u001b[0m                 \u001b[0;32mreturn\u001b[0m \u001b[0;32mFalse\u001b[0m\u001b[0;34m\u001b[0m\u001b[0;34m\u001b[0m\u001b[0m\n\u001b[1;32m    846\u001b[0m             \u001b[0;32melse\u001b[0m\u001b[0;34m:\u001b[0m\u001b[0;34m\u001b[0m\u001b[0;34m\u001b[0m\u001b[0m\n\u001b[0;32m--> 847\u001b[0;31m                 \u001b[0mself\u001b[0m\u001b[0;34m.\u001b[0m\u001b[0m_dispatch\u001b[0m\u001b[0;34m(\u001b[0m\u001b[0mtasks\u001b[0m\u001b[0;34m)\u001b[0m\u001b[0;34m\u001b[0m\u001b[0;34m\u001b[0m\u001b[0m\n\u001b[0m\u001b[1;32m    848\u001b[0m                 \u001b[0;32mreturn\u001b[0m \u001b[0;32mTrue\u001b[0m\u001b[0;34m\u001b[0m\u001b[0;34m\u001b[0m\u001b[0m\n\u001b[1;32m    849\u001b[0m \u001b[0;34m\u001b[0m\u001b[0m\n",
      "\u001b[0;32m~/anaconda3/envs/fortorch/lib/python3.6/site-packages/joblib/parallel.py\u001b[0m in \u001b[0;36m_dispatch\u001b[0;34m(self, batch)\u001b[0m\n\u001b[1;32m    763\u001b[0m         \u001b[0;32mwith\u001b[0m \u001b[0mself\u001b[0m\u001b[0;34m.\u001b[0m\u001b[0m_lock\u001b[0m\u001b[0;34m:\u001b[0m\u001b[0;34m\u001b[0m\u001b[0;34m\u001b[0m\u001b[0m\n\u001b[1;32m    764\u001b[0m             \u001b[0mjob_idx\u001b[0m \u001b[0;34m=\u001b[0m \u001b[0mlen\u001b[0m\u001b[0;34m(\u001b[0m\u001b[0mself\u001b[0m\u001b[0;34m.\u001b[0m\u001b[0m_jobs\u001b[0m\u001b[0;34m)\u001b[0m\u001b[0;34m\u001b[0m\u001b[0;34m\u001b[0m\u001b[0m\n\u001b[0;32m--> 765\u001b[0;31m             \u001b[0mjob\u001b[0m \u001b[0;34m=\u001b[0m \u001b[0mself\u001b[0m\u001b[0;34m.\u001b[0m\u001b[0m_backend\u001b[0m\u001b[0;34m.\u001b[0m\u001b[0mapply_async\u001b[0m\u001b[0;34m(\u001b[0m\u001b[0mbatch\u001b[0m\u001b[0;34m,\u001b[0m \u001b[0mcallback\u001b[0m\u001b[0;34m=\u001b[0m\u001b[0mcb\u001b[0m\u001b[0;34m)\u001b[0m\u001b[0;34m\u001b[0m\u001b[0;34m\u001b[0m\u001b[0m\n\u001b[0m\u001b[1;32m    766\u001b[0m             \u001b[0;31m# A job can complete so quickly than its callback is\u001b[0m\u001b[0;34m\u001b[0m\u001b[0;34m\u001b[0m\u001b[0;34m\u001b[0m\u001b[0m\n\u001b[1;32m    767\u001b[0m             \u001b[0;31m# called before we get here, causing self._jobs to\u001b[0m\u001b[0;34m\u001b[0m\u001b[0;34m\u001b[0m\u001b[0;34m\u001b[0m\u001b[0m\n",
      "\u001b[0;32m~/anaconda3/envs/fortorch/lib/python3.6/site-packages/joblib/_parallel_backends.py\u001b[0m in \u001b[0;36mapply_async\u001b[0;34m(self, func, callback)\u001b[0m\n\u001b[1;32m    204\u001b[0m     \u001b[0;32mdef\u001b[0m \u001b[0mapply_async\u001b[0m\u001b[0;34m(\u001b[0m\u001b[0mself\u001b[0m\u001b[0;34m,\u001b[0m \u001b[0mfunc\u001b[0m\u001b[0;34m,\u001b[0m \u001b[0mcallback\u001b[0m\u001b[0;34m=\u001b[0m\u001b[0;32mNone\u001b[0m\u001b[0;34m)\u001b[0m\u001b[0;34m:\u001b[0m\u001b[0;34m\u001b[0m\u001b[0;34m\u001b[0m\u001b[0m\n\u001b[1;32m    205\u001b[0m         \u001b[0;34m\"\"\"Schedule a func to be run\"\"\"\u001b[0m\u001b[0;34m\u001b[0m\u001b[0;34m\u001b[0m\u001b[0m\n\u001b[0;32m--> 206\u001b[0;31m         \u001b[0mresult\u001b[0m \u001b[0;34m=\u001b[0m \u001b[0mImmediateResult\u001b[0m\u001b[0;34m(\u001b[0m\u001b[0mfunc\u001b[0m\u001b[0;34m)\u001b[0m\u001b[0;34m\u001b[0m\u001b[0;34m\u001b[0m\u001b[0m\n\u001b[0m\u001b[1;32m    207\u001b[0m         \u001b[0;32mif\u001b[0m \u001b[0mcallback\u001b[0m\u001b[0;34m:\u001b[0m\u001b[0;34m\u001b[0m\u001b[0;34m\u001b[0m\u001b[0m\n\u001b[1;32m    208\u001b[0m             \u001b[0mcallback\u001b[0m\u001b[0;34m(\u001b[0m\u001b[0mresult\u001b[0m\u001b[0;34m)\u001b[0m\u001b[0;34m\u001b[0m\u001b[0;34m\u001b[0m\u001b[0m\n",
      "\u001b[0;32m~/anaconda3/envs/fortorch/lib/python3.6/site-packages/joblib/_parallel_backends.py\u001b[0m in \u001b[0;36m__init__\u001b[0;34m(self, batch)\u001b[0m\n\u001b[1;32m    568\u001b[0m         \u001b[0;31m# Don't delay the application, to avoid keeping the input\u001b[0m\u001b[0;34m\u001b[0m\u001b[0;34m\u001b[0m\u001b[0;34m\u001b[0m\u001b[0m\n\u001b[1;32m    569\u001b[0m         \u001b[0;31m# arguments in memory\u001b[0m\u001b[0;34m\u001b[0m\u001b[0;34m\u001b[0m\u001b[0;34m\u001b[0m\u001b[0m\n\u001b[0;32m--> 570\u001b[0;31m         \u001b[0mself\u001b[0m\u001b[0;34m.\u001b[0m\u001b[0mresults\u001b[0m \u001b[0;34m=\u001b[0m \u001b[0mbatch\u001b[0m\u001b[0;34m(\u001b[0m\u001b[0;34m)\u001b[0m\u001b[0;34m\u001b[0m\u001b[0;34m\u001b[0m\u001b[0m\n\u001b[0m\u001b[1;32m    571\u001b[0m \u001b[0;34m\u001b[0m\u001b[0m\n\u001b[1;32m    572\u001b[0m     \u001b[0;32mdef\u001b[0m \u001b[0mget\u001b[0m\u001b[0;34m(\u001b[0m\u001b[0mself\u001b[0m\u001b[0;34m)\u001b[0m\u001b[0;34m:\u001b[0m\u001b[0;34m\u001b[0m\u001b[0;34m\u001b[0m\u001b[0m\n",
      "\u001b[0;32m~/anaconda3/envs/fortorch/lib/python3.6/site-packages/joblib/parallel.py\u001b[0m in \u001b[0;36m__call__\u001b[0;34m(self)\u001b[0m\n\u001b[1;32m    251\u001b[0m         \u001b[0;32mwith\u001b[0m \u001b[0mparallel_backend\u001b[0m\u001b[0;34m(\u001b[0m\u001b[0mself\u001b[0m\u001b[0;34m.\u001b[0m\u001b[0m_backend\u001b[0m\u001b[0;34m,\u001b[0m \u001b[0mn_jobs\u001b[0m\u001b[0;34m=\u001b[0m\u001b[0mself\u001b[0m\u001b[0;34m.\u001b[0m\u001b[0m_n_jobs\u001b[0m\u001b[0;34m)\u001b[0m\u001b[0;34m:\u001b[0m\u001b[0;34m\u001b[0m\u001b[0;34m\u001b[0m\u001b[0m\n\u001b[1;32m    252\u001b[0m             return [func(*args, **kwargs)\n\u001b[0;32m--> 253\u001b[0;31m                     for func, args, kwargs in self.items]\n\u001b[0m\u001b[1;32m    254\u001b[0m \u001b[0;34m\u001b[0m\u001b[0m\n\u001b[1;32m    255\u001b[0m     \u001b[0;32mdef\u001b[0m \u001b[0m__reduce__\u001b[0m\u001b[0;34m(\u001b[0m\u001b[0mself\u001b[0m\u001b[0;34m)\u001b[0m\u001b[0;34m:\u001b[0m\u001b[0;34m\u001b[0m\u001b[0;34m\u001b[0m\u001b[0m\n",
      "\u001b[0;32m~/anaconda3/envs/fortorch/lib/python3.6/site-packages/joblib/parallel.py\u001b[0m in \u001b[0;36m<listcomp>\u001b[0;34m(.0)\u001b[0m\n\u001b[1;32m    251\u001b[0m         \u001b[0;32mwith\u001b[0m \u001b[0mparallel_backend\u001b[0m\u001b[0;34m(\u001b[0m\u001b[0mself\u001b[0m\u001b[0;34m.\u001b[0m\u001b[0m_backend\u001b[0m\u001b[0;34m,\u001b[0m \u001b[0mn_jobs\u001b[0m\u001b[0;34m=\u001b[0m\u001b[0mself\u001b[0m\u001b[0;34m.\u001b[0m\u001b[0m_n_jobs\u001b[0m\u001b[0;34m)\u001b[0m\u001b[0;34m:\u001b[0m\u001b[0;34m\u001b[0m\u001b[0;34m\u001b[0m\u001b[0m\n\u001b[1;32m    252\u001b[0m             return [func(*args, **kwargs)\n\u001b[0;32m--> 253\u001b[0;31m                     for func, args, kwargs in self.items]\n\u001b[0m\u001b[1;32m    254\u001b[0m \u001b[0;34m\u001b[0m\u001b[0m\n\u001b[1;32m    255\u001b[0m     \u001b[0;32mdef\u001b[0m \u001b[0m__reduce__\u001b[0m\u001b[0;34m(\u001b[0m\u001b[0mself\u001b[0m\u001b[0;34m)\u001b[0m\u001b[0;34m:\u001b[0m\u001b[0;34m\u001b[0m\u001b[0;34m\u001b[0m\u001b[0m\n",
      "\u001b[0;32m~/anaconda3/envs/fortorch/lib/python3.6/site-packages/sklearn/neighbors/base.py\u001b[0m in \u001b[0;36m_tree_query_parallel_helper\u001b[0;34m(tree, data, n_neighbors, return_distance)\u001b[0m\n\u001b[1;32m    289\u001b[0m     \u001b[0munder\u001b[0m \u001b[0mPyPy\u001b[0m\u001b[0;34m.\u001b[0m\u001b[0;34m\u001b[0m\u001b[0;34m\u001b[0m\u001b[0m\n\u001b[1;32m    290\u001b[0m     \"\"\"\n\u001b[0;32m--> 291\u001b[0;31m     \u001b[0;32mreturn\u001b[0m \u001b[0mtree\u001b[0m\u001b[0;34m.\u001b[0m\u001b[0mquery\u001b[0m\u001b[0;34m(\u001b[0m\u001b[0mdata\u001b[0m\u001b[0;34m,\u001b[0m \u001b[0mn_neighbors\u001b[0m\u001b[0;34m,\u001b[0m \u001b[0mreturn_distance\u001b[0m\u001b[0;34m)\u001b[0m\u001b[0;34m\u001b[0m\u001b[0;34m\u001b[0m\u001b[0m\n\u001b[0m\u001b[1;32m    292\u001b[0m \u001b[0;34m\u001b[0m\u001b[0m\n\u001b[1;32m    293\u001b[0m \u001b[0;34m\u001b[0m\u001b[0m\n",
      "\u001b[0;31mKeyboardInterrupt\u001b[0m: "
     ]
    }
   ],
   "source": [
    "from sklearn.manifold import TSNE\n",
    "import pandas as pd\n",
    "data_zs = style_feature_cat # 这是聚类前的特征\n",
    "tsne=TSNE()\n",
    "tsne.fit_transform(data_zs)  #进行数据降维,降成两维\n",
    "#a=tsne.fit_transform(data_zs) #a是一个array,a相当于下面的tsne_embedding_\n",
    "# tsne=pd.DataFrame(tsne.embedding_,cluster_ids_x) #转换数据格式"
   ]
  },
  {
   "cell_type": "code",
   "execution_count": null,
   "metadata": {},
   "outputs": [],
   "source": [
    "# 输入是特征和真实label\n",
    "tsne=pd.DataFrame(tsne.embedding_,kmeans.labels_) #转换数据格式"
   ]
  },
  {
   "cell_type": "code",
   "execution_count": null,
   "metadata": {},
   "outputs": [],
   "source": [
    "kmeans.labels_"
   ]
  },
  {
   "cell_type": "code",
   "execution_count": 52,
   "metadata": {},
   "outputs": [
    {
     "data": {
      "image/png": "[encoded data removed]",
      "text/plain": [
       "<Figure size 432x288 with 1 Axes>"
      ]
     },
     "metadata": {
      "needs_background": "light"
     },
     "output_type": "display_data"
    }
   ],
   "source": [
    "import matplotlib.pyplot as plt\n",
    "\n",
    "d=tsne[tsne.index==0]\n",
    "plt.plot(d[0],d[1],'r.')\n",
    "\n",
    "d=tsne[tsne.index==1]\n",
    "plt.plot(d[0],d[1],'go')\n",
    "\n",
    "d=tsne[tsne.index==2]\n",
    "plt.plot(d[0],d[1],'b*')\n",
    "\n",
    "d=tsne[tsne.index==3]\n",
    "plt.plot(d[0],d[1],'m*')\n",
    "\n",
    "plt.show()"
   ]
  },
  {
   "cell_type": "markdown",
   "metadata": {},
   "source": [
    "### 想到的一个结论\n",
    "- kmeans聚类(无监督算法)之后，得到的label是算法根据自身特征自己划分的label，我们不要受到之前两种数据得有两种类别的想法干扰！所以中心的确定可以是2个中心，也可以是三个中心。\n",
    "- tsne可视化用的是原来的特征，外加kmeans得到的label，这样做出的可视化。但是它对原来的特征做了一个降维的操作\n",
    "\n",
    "### 我们的测试思想\n",
    "- 把训练集风格特征做一个聚类，得到多个中心\n",
    "- 然后测试集经过训练好的聚类模型，可以得到到各个中心的距离，然后我们自己根据这个距离去看分数！"
   ]
  },
  {
   "cell_type": "code",
   "execution_count": 66,
   "metadata": {},
   "outputs": [],
   "source": [
    "class Valid_NIHDataset(Dataset):\n",
    "    def __init__(self, image_root, split_root, split, transform=None, cache_data=False):\n",
    "        super().__init__()\n",
    "\n",
    "        self._image_root = image_root\n",
    "        self._transform = transform\n",
    "\n",
    "        split_info_path = os.path.join(split_root, split)\n",
    "        with open(split_info_path) as f_in:\n",
    "            self._image_filenames = [filename.strip() for filename in f_in.readlines()]\n",
    "\n",
    "        self._cached_images = {}\n",
    "        if cache_data:\n",
    "            self._cache_data = False\n",
    "            print('Loading dataset ... ')\n",
    "            for index in tqdm.tqdm(range(len(self))):\n",
    "                self._cached_images[index] = self[index]\n",
    "        self._cache_data = cache_data\n",
    "\n",
    "    def __getitem__(self, index):\n",
    "        if self._cache_data:\n",
    "            return self._cached_images[index]\n",
    "        else:\n",
    "            image_path = os.path.join(self._image_root, self._image_filenames[index])\n",
    "            image = PIL.Image.open(image_path)\n",
    "            if self._transform is not None:\n",
    "                image = self._transform(image)\n",
    "            return image#,image_path\n",
    "\n",
    "    def __len__(self):\n",
    "        return len(self._image_filenames)"
   ]
  },
  {
   "cell_type": "markdown",
   "metadata": {},
   "source": [
    "#### 异常样本的计算"
   ]
  },
  {
   "cell_type": "code",
   "execution_count": 67,
   "metadata": {},
   "outputs": [],
   "source": [
    "image_root = \"/data1/LJL/MICCAI/data/AAAI_data/\"\n",
    "split = \"test\"\n",
    "split_root = \"../../folds/train_test_split/nih/subset/anomaly/\"\n",
    "\n",
    "anomaly_dataset = Valid_NIHDataset(image_root,split_root,split,transform=NIHTransform())\n",
    "anomaly_data_loader = DataLoader(dataset=anomaly_dataset, batch_size=32, shuffle=False)"
   ]
  },
  {
   "cell_type": "code",
   "execution_count": 68,
   "metadata": {},
   "outputs": [],
   "source": [
    "anomaly_style_feature_list = []\n",
    "for images in anomaly_data_loader:\n",
    "    with torch.no_grad():\n",
    "        images = images.cuda()\n",
    "        feature_maps = enc(images)\n",
    "        style_feature = feature_maps[:,10:,:,:]\n",
    "        anomaly_style_feature_list.append(style_feature)"
   ]
  },
  {
   "cell_type": "code",
   "execution_count": 69,
   "metadata": {},
   "outputs": [],
   "source": [
    "anomaly_style_feature_cat = torch.cat(anomaly_style_feature_list, dim = 0).cpu().squeeze(3).squeeze(2)"
   ]
  },
  {
   "cell_type": "code",
   "execution_count": 70,
   "metadata": {},
   "outputs": [
    {
     "data": {
      "text/plain": [
       "torch.Size([302, 118])"
      ]
     },
     "execution_count": 70,
     "metadata": {},
     "output_type": "execute_result"
    }
   ],
   "source": [
    "anomaly_style_feature_cat.shape"
   ]
  },
  {
   "cell_type": "code",
   "execution_count": 71,
   "metadata": {},
   "outputs": [
    {
     "data": {
      "text/plain": [
       "tensor([[-0.0788, -0.0243,  0.0954,  ..., -0.1797, -0.1254, -0.0481],\n",
       "        [-0.0801, -0.0260,  0.0960,  ..., -0.1811, -0.1255, -0.0454],\n",
       "        [-0.0801, -0.0253,  0.0965,  ..., -0.1799, -0.1257, -0.0448],\n",
       "        ...,\n",
       "        [-0.1512, -0.0831,  0.0995,  ..., -0.0449, -0.1190,  0.0366],\n",
       "        [-0.1493, -0.0826,  0.0964,  ..., -0.0442, -0.1191,  0.0307],\n",
       "        [-0.1464, -0.0798,  0.0945,  ..., -0.0442, -0.1193,  0.0265]])"
      ]
     },
     "execution_count": 71,
     "metadata": {},
     "output_type": "execute_result"
    }
   ],
   "source": [
    "anomaly_style_feature_cat"
   ]
  },
  {
   "cell_type": "code",
   "execution_count": 72,
   "metadata": {},
   "outputs": [],
   "source": [
    "# 聚类中心\n",
    "center_index = kmeans.cluster_centers_"
   ]
  },
  {
   "cell_type": "code",
   "execution_count": 73,
   "metadata": {},
   "outputs": [],
   "source": [
    "# 计算样本点到中心距离的公式\n",
    "def get_distance(p1, p2):\n",
    "    diff = [x-y for x, y in zip(p1, p2)]\n",
    "    distance = np.sqrt(sum(map(lambda x: x**2, diff)))\n",
    "    return distance"
   ]
  },
  {
   "cell_type": "code",
   "execution_count": 74,
   "metadata": {},
   "outputs": [],
   "source": [
    "from scipy.spatial.distance import pdist\n",
    "def get_Euclidean_Distance(x,y):\n",
    "    X=np.vstack([x,y])\n",
    "    d2=pdist(X)[0]\n",
    "    return d2"
   ]
  },
  {
   "cell_type": "code",
   "execution_count": 75,
   "metadata": {},
   "outputs": [],
   "source": [
    "sample_distance = []\n",
    "for j in range(len(anomaly_style_feature_cat)):\n",
    "    each_distance = []\n",
    "    for i in range(len(center_index)):\n",
    "        # 三个中心点有三个距离\n",
    "        distance = get_distance(np.array(center_index[i]),np.array(anomaly_style_feature_cat[j]))\n",
    "        each_distance.append(distance)\n",
    "    sample_distance.append(each_distance)"
   ]
  },
  {
   "cell_type": "code",
   "execution_count": 76,
   "metadata": {},
   "outputs": [],
   "source": [
    "anomaly_score = []\n",
    "for i in range(len(sample_distance)):\n",
    "    anomaly_score.append(np.min(sample_distance[i]))"
   ]
  },
  {
   "cell_type": "code",
   "execution_count": 77,
   "metadata": {},
   "outputs": [
    {
     "data": {
      "text/plain": [
       "[0.2937067964655528,\n",
       " 0.2925271152245572,\n",
       " 0.2920777832285147,\n",
       " 0.29382189701784167,\n",
       " 0.2984871134638106,\n",
       " 0.30570749439443523,\n",
       " 0.3059661725340985,\n",
       " 0.30719262417978144,\n",
       " 0.31198721944290614,\n",
       " 0.3155970100146831,\n",
       " 0.3172665981762389,\n",
       " 0.3232686462161192,\n",
       " 0.32144309643412605,\n",
       " 0.3241916859529056,\n",
       " 0.32315338080910927,\n",
       " 0.3294861339936385,\n",
       " 0.32985530163805016,\n",
       " 0.32802004344692876,\n",
       " 0.33350845151210873,\n",
       " 0.3377190153109206,\n",
       " 0.339645782568981,\n",
       " 0.34127902498982926,\n",
       " 0.342131812625648,\n",
       " 0.3415161720657185,\n",
       " 0.3429573221609269,\n",
       " 0.345533574384313,\n",
       " 0.3424552738398567,\n",
       " 0.34065953804634813,\n",
       " 0.3390973861234245,\n",
       " 0.34404712685715233,\n",
       " 0.34825523248439677,\n",
       " 0.3489179711136692,\n",
       " 0.3468601418506531,\n",
       " 0.34561685016717925,\n",
       " 0.3456829317480532,\n",
       " 0.3492433052356166,\n",
       " 0.3534819093235804,\n",
       " 0.3529380677679689,\n",
       " 0.35585396856052676,\n",
       " 0.35656791325876125,\n",
       " 0.3536556015445579,\n",
       " 0.34474214042618356,\n",
       " 0.33550220340510917,\n",
       " 0.3343801824683791,\n",
       " 0.32972597470416026,\n",
       " 0.3296837110919515,\n",
       " 0.327132850239099,\n",
       " 0.32943472620149633,\n",
       " 0.32724516512058777,\n",
       " 0.32879661563207385,\n",
       " 0.3267871978403199,\n",
       " 0.32079405547505035,\n",
       " 0.31998908116044106,\n",
       " 0.32739180306690907,\n",
       " 0.33022779419014053,\n",
       " 0.34077931293802477,\n",
       " 0.33920368794074024,\n",
       " 0.34089541440810295,\n",
       " 0.3423255437335767,\n",
       " 0.346214448114755,\n",
       " 0.3455798822037169,\n",
       " 0.3436949866370298,\n",
       " 0.3443716450354562,\n",
       " 0.34486679364938444,\n",
       " 0.3449532973729571,\n",
       " 0.3409922716062504,\n",
       " 0.343078404630694,\n",
       " 0.3466999462306193,\n",
       " 0.352377252391941,\n",
       " 0.3565663919543991,\n",
       " 0.35577091209477335,\n",
       " 0.35957278728644765,\n",
       " 0.35181130170523284,\n",
       " 0.35281904557272314,\n",
       " 0.36009727510531103,\n",
       " 0.3571870765967406,\n",
       " 0.3605330314552847,\n",
       " 0.36193201154473076,\n",
       " 0.3616046367475174,\n",
       " 0.3624002795010878,\n",
       " 0.3649617393416733,\n",
       " 0.35289859546261476,\n",
       " 0.3570835734854398,\n",
       " 0.35985491162303973,\n",
       " 0.3608108587064487,\n",
       " 0.3625376398250537,\n",
       " 0.3605299653462089,\n",
       " 0.35739657396595903,\n",
       " 0.35902314559853044,\n",
       " 0.3604121800011467,\n",
       " 0.35831779479217274,\n",
       " 0.35385733393745483,\n",
       " 0.34898046464938526,\n",
       " 0.3509673644291877,\n",
       " 0.3514109495702025,\n",
       " 0.3466734883821318,\n",
       " 0.34862661106838794,\n",
       " 0.3509146171688163,\n",
       " 0.3523373017407018,\n",
       " 0.35407269967027655,\n",
       " 0.3514231513835873,\n",
       " 0.35377980412257204,\n",
       " 0.35785171853255604,\n",
       " 0.3572733457405325,\n",
       " 0.3572729823128898,\n",
       " 0.35971383919739613,\n",
       " 0.3546525582277391,\n",
       " 0.3561313765715382,\n",
       " 0.3535922470802733,\n",
       " 0.35023555155798003,\n",
       " 0.3459682411614981,\n",
       " 0.34637717201784946,\n",
       " 0.34563283875437484,\n",
       " 0.3461612687227797,\n",
       " 0.34350795500629405,\n",
       " 0.3409068934306784,\n",
       " 0.3399815474822665,\n",
       " 0.3419330378132274,\n",
       " 0.34014996899958067,\n",
       " 0.33705952256305466,\n",
       " 0.33507668240868066,\n",
       " 0.3320729737124354,\n",
       " 0.33025778804857236,\n",
       " 0.3275201844830557,\n",
       " 0.32828173529805194,\n",
       " 0.330776399885417,\n",
       " 0.32908207466780065,\n",
       " 0.33197566956471375,\n",
       " 0.33080658190187506,\n",
       " 0.3349052364400454,\n",
       " 0.33259427988209694,\n",
       " 0.33592521580054674,\n",
       " 0.3385607557685266,\n",
       " 0.33400942563067254,\n",
       " 0.33025849516587846,\n",
       " 0.33289774606444583,\n",
       " 0.33069469216071234,\n",
       " 0.33147621529806437,\n",
       " 0.33409736173912413,\n",
       " 0.33253251940617207,\n",
       " 0.3326940187203303,\n",
       " 0.3348945369110105,\n",
       " 0.3348514342615507,\n",
       " 0.3369028135107383,\n",
       " 0.33968817338212265,\n",
       " 0.34451692141906953,\n",
       " 0.34294381335290136,\n",
       " 0.34234800177704666,\n",
       " 0.3414785805093257,\n",
       " 0.34258700640778517,\n",
       " 0.34244459427080864,\n",
       " 0.34367264793299035,\n",
       " 0.3400250628182613,\n",
       " 0.3390902589793156,\n",
       " 0.34103596013674004,\n",
       " 0.3494833605557601,\n",
       " 0.3504754106719731,\n",
       " 0.35300573451182304,\n",
       " 0.3474262845635295,\n",
       " 0.3353492802435846,\n",
       " 0.32385789667419523,\n",
       " 0.312897955957014,\n",
       " 0.3074487428145788,\n",
       " 0.30308862531241787,\n",
       " 0.2987825287136339,\n",
       " 0.29445461907953974,\n",
       " 0.28805153011616935,\n",
       " 0.29146639228203647,\n",
       " 0.29675755696341755,\n",
       " 0.29904379275018045,\n",
       " 0.29724101674844006,\n",
       " 0.30091632610093483,\n",
       " 0.3080614494503627,\n",
       " 0.31674246909854414,\n",
       " 0.32414837573892896,\n",
       " 0.32310122712098716,\n",
       " 0.32419485070984555,\n",
       " 0.4329737010868946,\n",
       " 0.42980655681077085,\n",
       " 0.43110064017773264,\n",
       " 0.4350177666257178,\n",
       " 0.43703176395100757,\n",
       " 0.4360400562604123,\n",
       " 0.4378059782585569,\n",
       " 0.4399690770537321,\n",
       " 0.43890930478077556,\n",
       " 0.4434880574199115,\n",
       " 0.44459479251053546,\n",
       " 0.44784368135218466,\n",
       " 0.44789340956454554,\n",
       " 0.4515310053206606,\n",
       " 0.4527781951449807,\n",
       " 0.4494160855605287,\n",
       " 0.4455570235171813,\n",
       " 0.44686924969524694,\n",
       " 0.44861522501915513,\n",
       " 0.44642975188802014,\n",
       " 0.4417509945355957,\n",
       " 0.4361877735177897,\n",
       " 0.4332522688980738,\n",
       " 0.43086458418937,\n",
       " 0.4300850839739576,\n",
       " 0.42845567772465426,\n",
       " 0.4241583490148372,\n",
       " 0.4239116948718256,\n",
       " 0.424400130363087,\n",
       " 0.42578234407964916,\n",
       " 0.4249229349617488,\n",
       " 0.4256624146571736,\n",
       " 0.4245594492248885,\n",
       " 0.4213249037339616,\n",
       " 0.41932901585384535,\n",
       " 0.42176049406264965,\n",
       " 0.42356676754176587,\n",
       " 0.4256794659790553,\n",
       " 0.4285859549145363,\n",
       " 0.43140975866615205,\n",
       " 0.43163150510435944,\n",
       " 0.43546498940508016,\n",
       " 0.4343483563825225,\n",
       " 0.4340407296753267,\n",
       " 0.4326116157387878,\n",
       " 0.4302921383811537,\n",
       " 0.43001611322982874,\n",
       " 0.43228954308223827,\n",
       " 0.4314926442452238,\n",
       " 0.430935665814258,\n",
       " 0.42912498134796756,\n",
       " 0.42612393484634686,\n",
       " 0.42365908861846,\n",
       " 0.42484812465837096,\n",
       " 0.42535700270841115,\n",
       " 0.4251205786355863,\n",
       " 0.4254506903328767,\n",
       " 0.42581803256163764,\n",
       " 0.43043766267725797,\n",
       " 0.43734337769874704,\n",
       " 0.4394691567631939,\n",
       " 0.43814848535897727,\n",
       " 0.43819786122600696,\n",
       " 0.43497382990362743,\n",
       " 0.43564039541062805,\n",
       " 0.43450526269182793,\n",
       " 0.4345757137307765,\n",
       " 0.4385540522056333,\n",
       " 0.44319626446476384,\n",
       " 0.44583537586279615,\n",
       " 0.44463236127182826,\n",
       " 0.44658647569535576,\n",
       " 0.4474057876007689,\n",
       " 0.45056110175259784,\n",
       " 0.4515971657339814,\n",
       " 0.4514723771299477,\n",
       " 0.4527021773976839,\n",
       " 0.4540236869626339,\n",
       " 0.4540397908953274,\n",
       " 0.45556814669560236,\n",
       " 0.4574045979429679,\n",
       " 0.4637918784327297,\n",
       " 0.4648827383286749,\n",
       " 0.465609889682172,\n",
       " 0.46651110981497446,\n",
       " 0.4646438972052549,\n",
       " 0.4666647598594109,\n",
       " 0.46724994734515424,\n",
       " 0.4689171298017174,\n",
       " 0.4712998758229656,\n",
       " 0.4737015396438484,\n",
       " 0.4768037139183059,\n",
       " 0.47737566418378485,\n",
       " 0.47849255229759885,\n",
       " 0.4782654823509483,\n",
       " 0.47866331978984233,\n",
       " 0.48192688045685494,\n",
       " 0.4834686718273683,\n",
       " 0.48731836934587697,\n",
       " 0.4900241052874195,\n",
       " 0.4910863005265569,\n",
       " 0.4895449024850305,\n",
       " 0.4945886632559044,\n",
       " 0.49492729666243906,\n",
       " 0.49403788880917,\n",
       " 0.49006716554860974,\n",
       " 0.48835185812200826,\n",
       " 0.48832721990789646,\n",
       " 0.4934995181624341,\n",
       " 0.49892540633071064,\n",
       " 0.5043573531436174,\n",
       " 0.5115535418250766,\n",
       " 0.5143251575768285,\n",
       " 0.5142816267274862,\n",
       " 0.5175410475026556,\n",
       " 0.5218090146593963,\n",
       " 0.5273412977157047,\n",
       " 0.5356099004787648,\n",
       " 0.5486324852570666,\n",
       " 0.5567679296042267,\n",
       " 0.551734658209803,\n",
       " 0.5423828345074397,\n",
       " 0.5276506844067799,\n",
       " 0.5159236757879835,\n",
       " 0.5091506350993426]"
      ]
     },
     "execution_count": 77,
     "metadata": {},
     "output_type": "execute_result"
    }
   ],
   "source": [
    "anomaly_score"
   ]
  },
  {
   "cell_type": "code",
   "execution_count": null,
   "metadata": {},
   "outputs": [],
   "source": []
  },
  {
   "cell_type": "code",
   "execution_count": null,
   "metadata": {},
   "outputs": [],
   "source": []
  },
  {
   "cell_type": "markdown",
   "metadata": {},
   "source": [
    "#### 正常测试样本的计算"
   ]
  },
  {
   "cell_type": "code",
   "execution_count": 78,
   "metadata": {},
   "outputs": [],
   "source": [
    "image_root = \"/data1/LJL/MICCAI/data/AAAI_data/\"\n",
    "split = \"test\"\n",
    "split_root = \"../../folds/train_test_split/nih/subset/normal/\"\n",
    "\n",
    "normal_dataset = Valid_NIHDataset(image_root,split_root,split,transform=NIHTransform())\n",
    "normal_data_loader = DataLoader(dataset=normal_dataset, batch_size=32, shuffle=False)"
   ]
  },
  {
   "cell_type": "code",
   "execution_count": 79,
   "metadata": {},
   "outputs": [],
   "source": [
    "normal_style_feature_list = []\n",
    "for images in normal_data_loader:\n",
    "    with torch.no_grad():\n",
    "        images = images.cuda()\n",
    "        feature_maps = enc(images)\n",
    "        style_feature = feature_maps[:,10:,:,:]\n",
    "        normal_style_feature_list.append(style_feature)"
   ]
  },
  {
   "cell_type": "code",
   "execution_count": 80,
   "metadata": {},
   "outputs": [],
   "source": [
    "normal_style_feature_cat = torch.cat(normal_style_feature_list, dim = 0).cpu().squeeze(3).squeeze(2)"
   ]
  },
  {
   "cell_type": "code",
   "execution_count": 81,
   "metadata": {},
   "outputs": [
    {
     "data": {
      "text/plain": [
       "torch.Size([302, 118])"
      ]
     },
     "execution_count": 81,
     "metadata": {},
     "output_type": "execute_result"
    }
   ],
   "source": [
    "normal_style_feature_cat.shape"
   ]
  },
  {
   "cell_type": "code",
   "execution_count": 82,
   "metadata": {},
   "outputs": [],
   "source": [
    "normal_sample_distance = []\n",
    "for j in range(len(normal_style_feature_cat)):\n",
    "    each_distance = []\n",
    "    for i in range(len(center_index)):\n",
    "        # 三个中心点有三个距离\n",
    "        distance = get_distance(np.array(center_index[i]),np.array(normal_style_feature_cat[j]))\n",
    "        each_distance.append(distance)\n",
    "    normal_sample_distance.append(each_distance)"
   ]
  },
  {
   "cell_type": "code",
   "execution_count": 83,
   "metadata": {},
   "outputs": [],
   "source": [
    "normal_score = []\n",
    "for i in range(len(normal_sample_distance)):\n",
    "    normal_score.append(np.min(normal_sample_distance[i]))"
   ]
  },
  {
   "cell_type": "code",
   "execution_count": 84,
   "metadata": {},
   "outputs": [
    {
     "data": {
      "text/plain": [
       "[0.21590776999321268,\n",
       " 0.2604003238177562,\n",
       " 0.2688777652943653,\n",
       " 0.2178642402075051,\n",
       " 0.4550606224302622,\n",
       " 0.36088818991736404,\n",
       " 0.8829578050370969,\n",
       " 0.39100869260799387,\n",
       " 0.2749681228214447,\n",
       " 0.18952834704233645,\n",
       " 0.38415958107183673,\n",
       " 0.3981159646103375,\n",
       " 0.33795301902382446,\n",
       " 0.20825627981274183,\n",
       " 0.6856792966735251,\n",
       " 0.7276636163054252,\n",
       " 0.41564367782511347,\n",
       " 0.3335920780167675,\n",
       " 0.24667222329147523,\n",
       " 0.25001034048457726,\n",
       " 0.4119017659495313,\n",
       " 0.46278768906004997,\n",
       " 0.2419173310449623,\n",
       " 0.3802155191751618,\n",
       " 0.38073342570759144,\n",
       " 0.37698632681752203,\n",
       " 0.5408624515870465,\n",
       " 0.8924509743764034,\n",
       " 0.37503851275426503,\n",
       " 0.48463337178594795,\n",
       " 0.24991981129848956,\n",
       " 0.2236099565927751,\n",
       " 0.3452787096155609,\n",
       " 0.22898971839831334,\n",
       " 0.2920658508821852,\n",
       " 0.2551959525241279,\n",
       " 0.19688922865300915,\n",
       " 0.2668245820988525,\n",
       " 0.21877633251520492,\n",
       " 0.2803235183874511,\n",
       " 0.2674242396766581,\n",
       " 0.3794844103802461,\n",
       " 0.3634613759560366,\n",
       " 0.3860373828169709,\n",
       " 0.2354120027495699,\n",
       " 0.3079329786664401,\n",
       " 0.26202858437707505,\n",
       " 0.30600279581243595,\n",
       " 0.25058463434420036,\n",
       " 0.24169673012914022,\n",
       " 0.18865249743896437,\n",
       " 0.2095836030469732,\n",
       " 0.3237153438782854,\n",
       " 0.7220038691597511,\n",
       " 0.18810712033112117,\n",
       " 0.30947422692289783,\n",
       " 0.23485691812739723,\n",
       " 0.3805829536598625,\n",
       " 0.2540549603372792,\n",
       " 0.28196534218057645,\n",
       " 0.28194271171705465,\n",
       " 0.2875212544270077,\n",
       " 0.29862795550090604,\n",
       " 0.31293459537326496,\n",
       " 0.29529658356749056,\n",
       " 0.37948429676624007,\n",
       " 0.4703927717285288,\n",
       " 0.30202104071616726,\n",
       " 0.2968027275985206,\n",
       " 0.3710843169391808,\n",
       " 0.7192283389871531,\n",
       " 0.2736988584364471,\n",
       " 0.2682727198926661,\n",
       " 0.345185787655196,\n",
       " 0.2084342255377567,\n",
       " 0.24486002859977837,\n",
       " 0.2732157378986801,\n",
       " 0.5102708625112246,\n",
       " 0.26891112972852976,\n",
       " 0.32102485136181835,\n",
       " 0.3084097576875404,\n",
       " 0.40097075928667725,\n",
       " 0.4607317934002998,\n",
       " 0.42765299608974283,\n",
       " 0.4005747796892974,\n",
       " 0.35484710522455215,\n",
       " 0.8902781379602591,\n",
       " 0.3051297339072579,\n",
       " 0.5464947934898011,\n",
       " 0.31770751779471473,\n",
       " 0.3808018103277667,\n",
       " 0.3715043777508154,\n",
       " 0.31917254829691816,\n",
       " 0.2377227742842111,\n",
       " 0.24758132584544854,\n",
       " 0.29842202650166694,\n",
       " 0.462222591065125,\n",
       " 0.3169200041706182,\n",
       " 0.5262413611217731,\n",
       " 0.4243373970222256,\n",
       " 0.36108038081122457,\n",
       " 0.18758619461011322,\n",
       " 0.26964909286362704,\n",
       " 0.2555054481149807,\n",
       " 0.3687518408499913,\n",
       " 0.4139045210940551,\n",
       " 0.3618950452463768,\n",
       " 0.36454677639217825,\n",
       " 0.5375863424680204,\n",
       " 0.2557794838326779,\n",
       " 0.5611284585983118,\n",
       " 0.4154528097935428,\n",
       " 0.19180704587921718,\n",
       " 0.2548162312813064,\n",
       " 0.4904975396588174,\n",
       " 0.2961849194615912,\n",
       " 0.3731501541996064,\n",
       " 0.2676531774996094,\n",
       " 0.19643199792188254,\n",
       " 0.367531497278989,\n",
       " 0.1925499572048302,\n",
       " 0.3079443566377008,\n",
       " 0.4029544291007251,\n",
       " 0.2281891908427061,\n",
       " 0.34902413686101524,\n",
       " 0.31861140710085745,\n",
       " 0.33716712921715686,\n",
       " 0.3135160316127504,\n",
       " 0.19808559911928017,\n",
       " 0.2055865805202844,\n",
       " 0.34263845709497087,\n",
       " 0.36102027026691735,\n",
       " 0.2895812849673709,\n",
       " 0.2455564434684701,\n",
       " 0.43342866949541764,\n",
       " 0.4295798316150625,\n",
       " 0.21316030102044115,\n",
       " 0.3345586330564055,\n",
       " 0.3560370211830048,\n",
       " 0.3988016450988921,\n",
       " 0.23812182870014492,\n",
       " 0.190406919417307,\n",
       " 0.25103946158246654,\n",
       " 0.3228277894656198,\n",
       " 0.21459360437471336,\n",
       " 0.24039922812934728,\n",
       " 0.3877635250119855,\n",
       " 0.25040476480451224,\n",
       " 0.2468147766002256,\n",
       " 0.22016513195083767,\n",
       " 0.44940069420884654,\n",
       " 0.2261685355538947,\n",
       " 0.22589664003270218,\n",
       " 0.2692015479373938,\n",
       " 0.38415191673022286,\n",
       " 0.3355071332857515,\n",
       " 0.3573401302191885,\n",
       " 0.3878052769003392,\n",
       " 0.3456544059807173,\n",
       " 0.4124268911745594,\n",
       " 0.2914733920597414,\n",
       " 0.3224449845251647,\n",
       " 0.4791778880314456,\n",
       " 0.2845392033984511,\n",
       " 0.23917332999871732,\n",
       " 0.284221454953091,\n",
       " 0.23227738426249694,\n",
       " 0.30669738626178156,\n",
       " 0.21711520793467023,\n",
       " 0.35773192578145024,\n",
       " 0.34812936058277266,\n",
       " 0.24307963669187008,\n",
       " 0.40968743235831195,\n",
       " 0.33339144410895444,\n",
       " 1.0783684517329735,\n",
       " 0.28916644640679107,\n",
       " 0.4799680687908765,\n",
       " 0.2892782541607239,\n",
       " 0.30915849709725085,\n",
       " 0.32924424083546694,\n",
       " 0.3307468151049294,\n",
       " 0.2927646300436582,\n",
       " 0.3706722284793456,\n",
       " 0.9015410998150447,\n",
       " 0.3020143610672941,\n",
       " 0.6448422598962174,\n",
       " 0.3623477040339384,\n",
       " 0.3597343277776398,\n",
       " 0.17318739888511225,\n",
       " 0.207012800305769,\n",
       " 0.419886798786411,\n",
       " 0.32444081883177656,\n",
       " 0.3397091187316836,\n",
       " 0.5174887864089105,\n",
       " 0.29714369361058535,\n",
       " 0.27351026732466305,\n",
       " 0.32606241334151637,\n",
       " 0.21730250118196737,\n",
       " 0.34043709565407704,\n",
       " 0.2884734811514986,\n",
       " 0.6088775767636063,\n",
       " 0.21883356163581585,\n",
       " 0.3110126018263159,\n",
       " 0.28624161412174276,\n",
       " 0.23046709775231047,\n",
       " 0.3453970414539768,\n",
       " 0.3784108124416484,\n",
       " 0.2882719488213328,\n",
       " 0.2568778973071652,\n",
       " 0.32127205282192817,\n",
       " 0.3245435545690829,\n",
       " 0.30764895886773624,\n",
       " 0.28594746496982426,\n",
       " 0.34855382702696397,\n",
       " 0.19767894161627453,\n",
       " 0.24479445098276,\n",
       " 0.2810968049343678,\n",
       " 0.3063813847221947,\n",
       " 0.24387036549744778,\n",
       " 0.3398781171008721,\n",
       " 0.32023469294343154,\n",
       " 0.4538303994773305,\n",
       " 0.24901220566578508,\n",
       " 0.25187666926424834,\n",
       " 0.5397672803043427,\n",
       " 0.5194433305356086,\n",
       " 0.4373639527969443,\n",
       " 0.2621718875291075,\n",
       " 0.32204352270372166,\n",
       " 0.3055857124563396,\n",
       " 0.4598061703178347,\n",
       " 0.2454906846150208,\n",
       " 0.2936264811554866,\n",
       " 0.8697408385395415,\n",
       " 0.34092695868163764,\n",
       " 0.32098769189640347,\n",
       " 0.21585237839413213,\n",
       " 0.45419914717382043,\n",
       " 0.30568290672919396,\n",
       " 0.46789788273618127,\n",
       " 0.37676778227930624,\n",
       " 0.24736030586638347,\n",
       " 0.5432290458993797,\n",
       " 0.2356023689748701,\n",
       " 0.2429644719711921,\n",
       " 0.23017819897528521,\n",
       " 0.32343141229077926,\n",
       " 0.3526322470642925,\n",
       " 0.28952405504162576,\n",
       " 0.56380524273485,\n",
       " 1.099348922235341,\n",
       " 0.32262711287360124,\n",
       " 0.21488702505389579,\n",
       " 0.39363027853373533,\n",
       " 0.25299003047729,\n",
       " 0.351378044415896,\n",
       " 0.2315449385098678,\n",
       " 0.2684395594263212,\n",
       " 0.37024772033002634,\n",
       " 0.3539211364890015,\n",
       " 0.20300951098385114,\n",
       " 0.3292462974477667,\n",
       " 0.23952028078480506,\n",
       " 0.25235147431277644,\n",
       " 0.30051395544213233,\n",
       " 0.6703465361911328,\n",
       " 0.18183530962843003,\n",
       " 0.39249389970101706,\n",
       " 0.32557597416519907,\n",
       " 0.4767175286618156,\n",
       " 0.23898704369173335,\n",
       " 0.3883512772319497,\n",
       " 0.35700245753861565,\n",
       " 0.397445919514102,\n",
       " 0.2350830827080192,\n",
       " 0.259789533440278,\n",
       " 0.38345477348360874,\n",
       " 0.30841457597711724,\n",
       " 0.4113809858821351,\n",
       " 0.3180555681382184,\n",
       " 0.20014537894555443,\n",
       " 0.4231693097342233,\n",
       " 0.2939599646085633,\n",
       " 0.3192515215094261,\n",
       " 0.22851036375462824,\n",
       " 0.22818465869231921,\n",
       " 0.3366731151776017,\n",
       " 0.3680149251015086,\n",
       " 0.3328271767812443,\n",
       " 0.2931644538777492,\n",
       " 0.27795004717344285,\n",
       " 0.40518022277382426,\n",
       " 0.31597088922692607,\n",
       " 0.20005882390567697,\n",
       " 0.4018899938409848,\n",
       " 0.4510212431926247,\n",
       " 0.18977317082850065,\n",
       " 0.2849922000281058,\n",
       " 0.5397082454343606,\n",
       " 0.43682601567395296,\n",
       " 0.33469640643838594,\n",
       " 0.21773572324953197]"
      ]
     },
     "execution_count": 84,
     "metadata": {},
     "output_type": "execute_result"
    }
   ],
   "source": [
    "normal_score"
   ]
  },
  {
   "cell_type": "code",
   "execution_count": 85,
   "metadata": {},
   "outputs": [],
   "source": [
    "y_true = np.concatenate((np.zeros_like(normal_score), np.ones_like(anomaly_score)))\n",
    "y_pred = np.concatenate((np.array(normal_score), np.array(anomaly_score)))"
   ]
  },
  {
   "cell_type": "code",
   "execution_count": 86,
   "metadata": {},
   "outputs": [
    {
     "name": "stdout",
     "output_type": "stream",
     "text": [
      "0.7065589228542608\n"
     ]
    }
   ],
   "source": [
    "roc_auc = roc_auc_score(y_true, y_pred)\n",
    "print(roc_auc)"
   ]
  },
  {
   "cell_type": "code",
   "execution_count": null,
   "metadata": {},
   "outputs": [],
   "source": []
  },
  {
   "cell_type": "code",
   "execution_count": null,
   "metadata": {},
   "outputs": [],
   "source": []
  },
  {
   "cell_type": "markdown",
   "metadata": {},
   "source": [
    "### 可视化\n",
    "- 有点乱！！！"
   ]
  },
  {
   "cell_type": "code",
   "execution_count": 30,
   "metadata": {},
   "outputs": [],
   "source": [
    "import numpy as np\n",
    "import matplotlib.pyplot as plt"
   ]
  },
  {
   "cell_type": "code",
   "execution_count": 24,
   "metadata": {},
   "outputs": [
    {
     "data": {
      "text/plain": [
       "torch.Size([10971, 118])"
      ]
     },
     "execution_count": 24,
     "metadata": {},
     "output_type": "execute_result"
    }
   ],
   "source": [
    "style_feature_cat.shape"
   ]
  },
  {
   "cell_type": "markdown",
   "metadata": {},
   "source": [
    "#### 此处的可视化是基于118维度的前两维"
   ]
  },
  {
   "cell_type": "code",
   "execution_count": 26,
   "metadata": {},
   "outputs": [
    {
     "data": {
      "image/png": "[encoded data removed]",
      "text/plain": [
       "<Figure size 432x288 with 1 Axes>"
      ]
     },
     "metadata": {
      "needs_background": "light"
     },
     "output_type": "display_data"
    }
   ],
   "source": [
    "plt.scatter(style_feature_cat[:, 0],style_feature_cat[:, 1], marker='o')\n",
    "plt.show()"
   ]
  },
  {
   "cell_type": "code",
   "execution_count": 37,
   "metadata": {},
   "outputs": [
    {
     "data": {
      "text/plain": [
       "torch.Size([10971, 118])"
      ]
     },
     "execution_count": 37,
     "metadata": {},
     "output_type": "execute_result"
    }
   ],
   "source": [
    "style_feature_cat.shape"
   ]
  },
  {
   "cell_type": "code",
   "execution_count": 39,
   "metadata": {},
   "outputs": [
    {
     "data": {
      "image/png": "[encoded data removed]",
      "text/plain": [
       "<Figure size 432x288 with 1 Axes>"
      ]
     },
     "metadata": {
      "needs_background": "light"
     },
     "output_type": "display_data"
    }
   ],
   "source": [
    "plt.scatter(style_feature_cat[:, 0],style_feature_cat[:, 1], c=kmeans)\n",
    "plt.show()\n"
   ]
  },
  {
   "cell_type": "code",
   "execution_count": null,
   "metadata": {},
   "outputs": [],
   "source": []
  },
  {
   "cell_type": "code",
   "execution_count": 31,
   "metadata": {},
   "outputs": [],
   "source": [
    "\n",
    "from sklearn.cluster import k_means\n",
    "model = k_means(style_feature_cat,n_clusters = 2)"
   ]
  },
  {
   "cell_type": "code",
   "execution_count": 32,
   "metadata": {},
   "outputs": [
    {
     "data": {
      "image/png": "[encoded data removed]",
      "text/plain": [
       "<Figure size 432x288 with 1 Axes>"
      ]
     },
     "metadata": {
      "needs_background": "light"
     },
     "output_type": "display_data"
    }
   ],
   "source": [
    "cluster_centers = model[0] # 聚类中心数组\n",
    "cluster_labels = model[1] # 聚类标签数组\n",
    " \n",
    "plt.scatter(style_feature_cat[:, 0],style_feature_cat[:, 1],c=cluster_labels) # 绘制样本并按聚类标签标注颜色\n",
    " \n",
    "# 绘制聚类中心点，标记成五角星样式，以及红色边框\n",
    " \n",
    "for center in cluster_centers:\n",
    " \n",
    "    plt.scatter(center[0], center[1], marker=\"p\", edgecolors=\"red\")\n",
    "    \n",
    "plt.show() # 显示图#print model\n"
   ]
  },
  {
   "cell_type": "code",
   "execution_count": 37,
   "metadata": {},
   "outputs": [
    {
     "name": "stdout",
     "output_type": "stream",
     "text": [
      "-0.09581017449965487\n",
      "-0.13860154209432884\n"
     ]
    }
   ],
   "source": [
    "for center in cluster_centers:\n",
    "    print(center[0])\n",
    "#     print(center[1])"
   ]
  },
  {
   "cell_type": "code",
   "execution_count": null,
   "metadata": {},
   "outputs": [],
   "source": []
  },
  {
   "cell_type": "markdown",
   "metadata": {},
   "source": [
    "### tsne可视化\n",
    "- 直接把数据降成二维"
   ]
  },
  {
   "cell_type": "code",
   "execution_count": null,
   "metadata": {},
   "outputs": [],
   "source": []
  },
  {
   "cell_type": "code",
   "execution_count": 42,
   "metadata": {},
   "outputs": [
    {
     "data": {
      "text/plain": [
       "array([[-37.268875,   0.989186],\n",
       "       [ 77.63705 ,   5.586354],\n",
       "       [ 17.361895, -27.17027 ],\n",
       "       ...,\n",
       "       [ 16.423605,  86.99833 ],\n",
       "       [ 38.87924 ,  15.18397 ],\n",
       "       [-42.83912 , -84.66238 ]], dtype=float32)"
      ]
     },
     "execution_count": 42,
     "metadata": {},
     "output_type": "execute_result"
    }
   ],
   "source": [
    "from sklearn.manifold import TSNE\n",
    "import pandas as pd\n",
    "data_zs = style_feature_cat # 这是聚类前的特征\n",
    "tsne=TSNE()\n",
    "tsne.fit_transform(data_zs)  #进行数据降维,降成两维\n",
    "#a=tsne.fit_transform(data_zs) #a是一个array,a相当于下面的tsne_embedding_\n",
    "# tsne=pd.DataFrame(tsne.embedding_,cluster_ids_x) #转换数据格式"
   ]
  },
  {
   "cell_type": "code",
   "execution_count": 47,
   "metadata": {},
   "outputs": [],
   "source": [
    "# 输入是特征和真实label\n",
    "tsne=pd.DataFrame(tsne.embedding_,labels_cat) #转换数据格式"
   ]
  },
  {
   "cell_type": "code",
   "execution_count": 50,
   "metadata": {},
   "outputs": [
    {
     "data": {
      "text/plain": [
       "(10971, 2)"
      ]
     },
     "execution_count": 50,
     "metadata": {},
     "output_type": "execute_result"
    }
   ],
   "source": [
    "tsne.shape"
   ]
  },
  {
   "cell_type": "code",
   "execution_count": 48,
   "metadata": {},
   "outputs": [
    {
     "data": {
      "image/png": "[encoded data removed]",
      "text/plain": [
       "<Figure size 432x288 with 1 Axes>"
      ]
     },
     "metadata": {
      "needs_background": "light"
     },
     "output_type": "display_data"
    }
   ],
   "source": [
    "import matplotlib.pyplot as plt\n",
    "\n",
    "d=tsne[tsne.index==0]\n",
    "plt.plot(d[0],d[1],'r.')\n",
    "\n",
    "d=tsne[tsne.index==1]\n",
    "plt.plot(d[0],d[1],'go')\n",
    "\n",
    "# d=tsne[tsne.index==2]\n",
    "# plt.plot(d[0],d[1],'b*')\n",
    "\n",
    "plt.show()"
   ]
  },
  {
   "cell_type": "markdown",
   "metadata": {},
   "source": [
    "### 重新看看"
   ]
  },
  {
   "cell_type": "code",
   "execution_count": 41,
   "metadata": {},
   "outputs": [],
   "source": [
    "import numpy as np\n",
    "import matplotlib.pyplot as plt\n",
    "import pandas as pd\n",
    "\n",
    "from sklearn.cluster import KMeans\n",
    "\n",
    "X = style_feature_cat\n",
    "kmeans = KMeans(n_clusters=3,random_state=0)\n",
    "kmeans.fit(X)\n",
    "\n",
    "# labels是聚类出来的labels\n",
    "labels = kmeans.labels_\n",
    "labels = pd.DataFrame(labels,columns=['labels'])\n",
    "# X.insert(-1,'labels',labels)\n"
   ]
  },
  {
   "cell_type": "code",
   "execution_count": 45,
   "metadata": {},
   "outputs": [
    {
     "data": {
      "text/plain": [
       "tensor([[-0.1537, -0.1045,  0.0427,  ..., -0.1538, -0.0816, -0.0813],\n",
       "        [-0.0825, -0.0091,  0.1185,  ..., -0.1082, -0.1193,  0.0908],\n",
       "        [-0.0949, -0.0269,  0.1849,  ..., -0.2117, -0.1428,  0.1659],\n",
       "        ...,\n",
       "        [-0.1118, -0.0142,  0.1250,  ..., -0.1785, -0.1332,  0.0064],\n",
       "        [-0.1193, -0.0318,  0.0953,  ..., -0.1260, -0.1203,  0.0333],\n",
       "        [-0.0953,  0.0822,  0.0810,  ..., -0.0990, -0.1496, -0.0291]])"
      ]
     },
     "execution_count": 45,
     "metadata": {},
     "output_type": "execute_result"
    }
   ],
   "source": [
    "X"
   ]
  },
  {
   "cell_type": "code",
   "execution_count": 1,
   "metadata": {},
   "outputs": [],
   "source": []
  },
  {
   "cell_type": "code",
   "execution_count": null,
   "metadata": {},
   "outputs": [],
   "source": []
  },
  {
   "cell_type": "code",
   "execution_count": null,
   "metadata": {},
   "outputs": [],
   "source": []
  },
  {
   "cell_type": "code",
   "execution_count": null,
   "metadata": {},
   "outputs": [],
   "source": []
  },
  {
   "cell_type": "code",
   "execution_count": null,
   "metadata": {},
   "outputs": [],
   "source": [
    "from sklearn.manifold import TSNE\n",
    "tsne = TSNE()\n",
    "a = tsne.fit_transform(X)\n",
    "liris = pd.DataFrame(a,index=X.index)\n",
    "\n",
    "d1 = liris[X['labels']==0]\n",
    "#plt.plot(d1[0],d1[1],'r.')\n",
    "d2 = liris[X['labels']==1]\n",
    "#plt.plot(d2[0],d2[1],'go')\n",
    "# d3 = liris[X['labels']==2]\n",
    "#plt.plot(d3[0],d3[1],'b*')\n",
    "plt.plot(d1[0],d1[1],'r.',d2[0],d2[1],'go',d3[0],d3[1],'b*')"
   ]
  }
 ],
 "metadata": {
  "kernelspec": {
   "display_name": "Python 3",
   "language": "python",
   "name": "python3"
  },
  "language_info": {
   "codemirror_mode": {
    "name": "ipython",
    "version": 3
   },
   "file_extension": ".py",
   "mimetype": "text/x-python",
   "name": "python",
   "nbconvert_exporter": "python",
   "pygments_lexer": "ipython3",
   "version": "3.6.9"
  }
 },
 "nbformat": 4,
 "nbformat_minor": 2
}
